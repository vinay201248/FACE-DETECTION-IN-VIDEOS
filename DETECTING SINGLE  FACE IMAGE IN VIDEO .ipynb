{
 "cells": [
  {
   "cell_type": "code",
   "execution_count": 1,
   "id": "fca64f4b",
   "metadata": {},
   "outputs": [],
   "source": [
    "import numpy as np\n",
    "import cv2"
   ]
  },
  {
   "cell_type": "code",
   "execution_count": 2,
   "id": "24e47aae",
   "metadata": {},
   "outputs": [],
   "source": [
    "\n",
    "\n",
    "video = cv2.VideoCapture('./../WhatsApp Video 2023-02-28 at 09.53.03.mp4')\n",
    "\n",
    "# Applying viola jones math which is in xml file to the image:\n",
    "\n",
    "model = cv2.CascadeClassifier('./../haarcascade_frontalface_default.xml')\n",
    "\n",
    "\n",
    "while True:\n",
    "    res , frames = video.read()\n",
    "    if res == True:\n",
    "        \n",
    "        cordinates , no_of_faces = model.detectMultiScale2(frames)\n",
    "        pt1 = (cordinates[0][0] , cordinates[0][1])\n",
    "        pt2 = (cordinates[0][2] + cordinates[0][0] , cordinates[0][3] + cordinates[0][1])\n",
    "        cv2.rectangle(frames , pt1 , pt2 , (0,0,255) , 1)\n",
    "        cv2.imshow('vi' , frames)\n",
    "        if cv2.waitKey(10) & 0xFF == ord('q'):\n",
    "            break\n",
    "    else:\n",
    "        break\n",
    "video.release()\n",
    "cv2.destroyAllWindows()"
   ]
  },
  {
   "cell_type": "code",
   "execution_count": null,
   "id": "659200b3",
   "metadata": {},
   "outputs": [],
   "source": []
  }
 ],
 "metadata": {
  "kernelspec": {
   "display_name": "Python 3 (ipykernel)",
   "language": "python",
   "name": "python3"
  },
  "language_info": {
   "codemirror_mode": {
    "name": "ipython",
    "version": 3
   },
   "file_extension": ".py",
   "mimetype": "text/x-python",
   "name": "python",
   "nbconvert_exporter": "python",
   "pygments_lexer": "ipython3",
   "version": "3.9.15"
  }
 },
 "nbformat": 4,
 "nbformat_minor": 5
}
