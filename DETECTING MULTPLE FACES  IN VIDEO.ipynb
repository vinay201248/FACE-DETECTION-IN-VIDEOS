{
 "cells": [
  {
   "cell_type": "code",
   "execution_count": 8,
   "id": "9fc28669",
   "metadata": {},
   "outputs": [],
   "source": [
    "import numpy as np\n",
    "import cv2"
   ]
  },
  {
   "cell_type": "code",
   "execution_count": 9,
   "id": "4c76f745",
   "metadata": {},
   "outputs": [],
   "source": [
    "\n",
    "video = cv2.VideoCapture('./../MULTIPLE FACES VIDEO.mp4')\n",
    "\n",
    "# Applying viola jones math which is in xml file to the image:\n",
    "\n",
    "model = cv2.CascadeClassifier('./../haarcascade_frontalface_default.xml')\n",
    "\n",
    "while True:\n",
    "    res , frames = video.read()\n",
    "    if res == True:\n",
    "        cordinates , no_of_faces = model.detectMultiScale2(frames)\n",
    "        length = len(no_of_faces)\n",
    "        if len(no_of_faces) > 0:\n",
    "            for i in range(len(no_of_faces)):\n",
    "                sol = cordinates[i]\n",
    "                pt1 = (sol[0] , sol[1])\n",
    "                pt2 = (sol[2] + sol[0] , sol[1] + sol[3])\n",
    "                cv2.rectangle(frames , pt1 , pt2 , (0,0,255) , 1)\n",
    "                text = 'No of Faces Detected : ' + str(length)\n",
    "                font = cv2.FONT_HERSHEY_COMPLEX\n",
    "                cv2.putText(frames , text , (10,13) , font , .5 , (0,0,0) , 1)\n",
    "                \n",
    "        cv2.imshow('im' , frames)\n",
    "        if cv2.waitKey(10) & 0xFF == ord('q'):\n",
    "            break\n",
    "    else:\n",
    "        break\n",
    "        \n",
    "video.release()\n",
    "cv2.destroyAllWindows()"
   ]
  },
  {
   "cell_type": "code",
   "execution_count": null,
   "id": "f20c48a6",
   "metadata": {},
   "outputs": [],
   "source": []
  },
  {
   "cell_type": "code",
   "execution_count": null,
   "id": "b1ac6d06",
   "metadata": {},
   "outputs": [],
   "source": []
  }
 ],
 "metadata": {
  "kernelspec": {
   "display_name": "Python 3 (ipykernel)",
   "language": "python",
   "name": "python3"
  },
  "language_info": {
   "codemirror_mode": {
    "name": "ipython",
    "version": 3
   },
   "file_extension": ".py",
   "mimetype": "text/x-python",
   "name": "python",
   "nbconvert_exporter": "python",
   "pygments_lexer": "ipython3",
   "version": "3.9.15"
  }
 },
 "nbformat": 4,
 "nbformat_minor": 5
}
